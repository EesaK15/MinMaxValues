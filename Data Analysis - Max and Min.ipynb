{
 "cells": [
  {
   "cell_type": "code",
   "execution_count": 2,
   "id": "002fa9cb",
   "metadata": {},
   "outputs": [],
   "source": [
    "import pandas as pd\n",
    "import numpy as np"
   ]
  },
  {
   "cell_type": "code",
   "execution_count": null,
   "id": "6ac9d373",
   "metadata": {},
   "outputs": [],
   "source": [
    "df = pd.read_csv(r'location\\prac.csv')\n",
    "\n",
    "dec = input('Enter the Column You Wish To See The Max & Min For: ')\n",
    "\n",
    "while dec not in df.columns or df[dec].dtypes == 'O':\n",
    "    print('That is not a valid column or There are No Max and Min Values. Please Try Again')\n",
    "    dec = input('Enter the Column You Wish To See The Max & Min For: \\n')\n",
    "\n",
    "else:\n",
    "    max_am = df[dec].max()\n",
    "    min_am = df[dec].min()\n",
    "\n",
    "if 'Name' in df.columns:\n",
    "    max_index = df.loc[df[dec].idxmax(), 'Name']\n",
    "    min_index = df.loc[df[dec].idxmin(), 'Name']\n",
    "else:\n",
    "    max_index = df.loc[df[dec].idxmax(), df.columns[0]]\n",
    "    min_index = df.loc[df[dec].idxmin(), df.columns[0]]\n",
    "    \n",
    "print(f'The Highest {dec} is : {max_am}, for {max_index}')\n",
    "print(f'The Smallest {dec} is : {min_am}, for {min_index}')\n",
    "   \n",
    "\n",
    "    "
   ]
  }
 ],
 "metadata": {
  "kernelspec": {
   "display_name": "Python 3 (ipykernel)",
   "language": "python",
   "name": "python3"
  },
  "language_info": {
   "codemirror_mode": {
    "name": "ipython",
    "version": 3
   },
   "file_extension": ".py",
   "mimetype": "text/x-python",
   "name": "python",
   "nbconvert_exporter": "python",
   "pygments_lexer": "ipython3",
   "version": "3.10.9"
  }
 },
 "nbformat": 4,
 "nbformat_minor": 5
}
